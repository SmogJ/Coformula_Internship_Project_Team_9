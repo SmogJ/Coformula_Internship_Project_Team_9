{
 "cells": [
  {
   "cell_type": "code",
   "execution_count": 1,
   "metadata": {
    "colab": {
     "base_uri": "https://localhost:8080/",
     "height": 367
    },
    "executionInfo": {
     "elapsed": 2543,
     "status": "error",
     "timestamp": 1609119937904,
     "user": {
      "displayName": "CHISOM Loius",
      "photoUrl": "https://lh3.googleusercontent.com/a-/AOh14GjudhRwvIfY8gsUYkRSy7RckAynEtiqouRBjWmh=s64",
      "userId": "04123391023414685242"
     },
     "user_tz": -60
    },
    "id": "WL3S4HhfBM2a",
    "outputId": "c595f3c5-da2a-44d1-baa4-9b4c032d193e"
   },
   "outputs": [
    {
     "ename": "ModuleNotFoundError",
     "evalue": "ignored",
     "output_type": "error",
     "traceback": [
      "\u001b[0;31m---------------------------------------------------------------------------\u001b[0m",
      "\u001b[0;31mModuleNotFoundError\u001b[0m                       Traceback (most recent call last)",
      "\u001b[0;32m<ipython-input-1-c5b9763be597>\u001b[0m in \u001b[0;36m<module>\u001b[0;34m()\u001b[0m\n\u001b[0;32m----> 1\u001b[0;31m \u001b[0;32mfrom\u001b[0m \u001b[0mselenium\u001b[0m \u001b[0;32mimport\u001b[0m \u001b[0mwebdriver\u001b[0m \u001b[0;31m#Import the Selenium Webdriver\u001b[0m\u001b[0;34m\u001b[0m\u001b[0;34m\u001b[0m\u001b[0m\n\u001b[0m\u001b[1;32m      2\u001b[0m \u001b[0;32mfrom\u001b[0m \u001b[0mselenium\u001b[0m\u001b[0;34m.\u001b[0m\u001b[0mwebdriver\u001b[0m\u001b[0;34m.\u001b[0m\u001b[0mchrome\u001b[0m\u001b[0;34m.\u001b[0m\u001b[0moptions\u001b[0m \u001b[0;32mimport\u001b[0m \u001b[0mOptions\u001b[0m\u001b[0;34m\u001b[0m\u001b[0;34m\u001b[0m\u001b[0m\n\u001b[1;32m      3\u001b[0m \u001b[0;31m#from selenium.webdriver.support.ui import Select\u001b[0m\u001b[0;34m\u001b[0m\u001b[0;34m\u001b[0m\u001b[0;34m\u001b[0m\u001b[0m\n\u001b[1;32m      4\u001b[0m \u001b[0;34m\u001b[0m\u001b[0m\n\u001b[1;32m      5\u001b[0m \u001b[0;31m#Import this functions for the execution of Explicitly Wait.\u001b[0m\u001b[0;34m\u001b[0m\u001b[0;34m\u001b[0m\u001b[0;34m\u001b[0m\u001b[0m\n",
      "\u001b[0;31mModuleNotFoundError\u001b[0m: No module named 'selenium'",
      "",
      "\u001b[0;31m---------------------------------------------------------------------------\u001b[0;32m\nNOTE: If your import is failing due to a missing package, you can\nmanually install dependencies using either !pip or !apt.\n\nTo view examples of installing some common dependencies, click the\n\"Open Examples\" button below.\n\u001b[0;31m---------------------------------------------------------------------------\u001b[0m\n"
     ]
    }
   ],
   "source": [
    "from selenium import webdriver #Import the Selenium Webdriver \n",
    "from selenium.webdriver.chrome.options import Options\n",
    "#from selenium.webdriver.support.ui import Select\n",
    "\n",
    "#Import this functions for the execution of Explicitly Wait.\n",
    "from selenium.webdriver.support.ui import WebDriverWait\n",
    "from selenium.webdriver.support import expected_conditions as EC\n",
    "from selenium.webdriver.common.keys import Keys\n",
    "from selenium.webdriver.common.by import By\n",
    "\n",
    "#Import Pandas\n",
    "import pandas as pd    \n",
    "\n",
    "\n",
    "\n",
    "options = Options()\n",
    "options.headless = True # Make sure that chrome doesn't automatically opens up on it's own.\n",
    "options.add_argument(\"--window-size=1920,1200\")\n",
    "\n",
    "#Download the latest chrome-driver from this link (https://sites.google.com/a/chromium.org/chromedriver/home). \n",
    "#Make sure that you have an update version of chrome installed on your computer\n",
    "\n",
    "DRIVER_PATH = '/Users/frankburg/Documents/chromedriver-2'\n",
    "\n",
    "driver = webdriver.Chrome( options=options, executable_path=DRIVER_PATH)\n"
   ]
  },
  {
   "cell_type": "code",
   "execution_count": null,
   "metadata": {
    "id": "hMSrCMbJBM4C"
   },
   "outputs": [],
   "source": [
    "#print(driver.page_source)"
   ]
  },
  {
   "cell_type": "code",
   "execution_count": null,
   "metadata": {
    "id": "U1lRZ4ixBM4P"
   },
   "outputs": [],
   "source": [
    "#Open up the OPSIN page\n",
    "driver.get(\"https://opsin.ch.cam.ac.uk/\")\n",
    "search_chem = driver.find_element_by_id(\"chemicalName\") #Find the chemical\n",
    "search_chem.clear() # Clear. the input on the form.\n",
    "search_chem.send_keys(\"5,5'-dimethyl2,2'-bipyridinyl\") #Fill out the box by using send_key function\n",
    "\n",
    "#driver.find_element_by_xpath('//*[@id=\"chemicalNameForm\"]/fieldset/input[2]').click()\n",
    "driver.find_element_by_id('chemicalNameForm').submit() #find the submit button and click it.\n",
    "\n",
    "#We don't need the stdkey again, we will just go with the SMILES only. \n",
    "driver.implicitly_wait(10)\n",
    "stdkey= driver.find_element_by_xpath('//*[@id=\"stdinchikey\"]/a').text\n",
    "smiles=WebDriverWait(driver, 10).until(EC.visibility_of_element_located((By.ID, \"smiles\"))).text\n"
   ]
  },
  {
   "cell_type": "code",
   "execution_count": null,
   "metadata": {
    "id": "9LB_ozvVBM4a",
    "outputId": "771c077e-b72a-4c39-8221-d504443940cd"
   },
   "outputs": [
    {
     "name": "stdout",
     "output_type": "stream",
     "text": [
      "PTRATZCAGVBFIQ-UHFFFAOYSA-N\n",
      "CC=1C=CC(=NC1)C1=NC=C(C=C1)C\n"
     ]
    }
   ],
   "source": [
    "print(stdkey)\n",
    "print(smiles)"
   ]
  },
  {
   "cell_type": "code",
   "execution_count": null,
   "metadata": {
    "id": "3NrL57whBM4o"
   },
   "outputs": [],
   "source": [
    "#smiles=WebDriverWait(driver, 10).until(EC.visibility_of_element_located((By.ID, \"smiles\"))).text\n"
   ]
  },
  {
   "cell_type": "code",
   "execution_count": null,
   "metadata": {
    "id": "91RHIEpgBM4q"
   },
   "outputs": [],
   "source": [
    "#Reading the datasheet from your PC \n",
    "\n",
    "data_sheet=pd.read_excel('/Users/frankburg/Downloads/Drug_Data.xlsx')\n",
    "chemical_name=data_sheet['Chemical Name'] #Grab only the chemical name column\n",
    "chemical_name=[x.strip() for x in list(chemical_name)] #Remove leading and trailing white space\n",
    "active_ingred=data_sheet['Active ingredients'] #Drug name\n",
    "drug_name=data_sheet['Drug Name']"
   ]
  },
  {
   "cell_type": "code",
   "execution_count": null,
   "metadata": {
    "id": "sgNtHahIBM4y",
    "outputId": "dc2c22ef-fbc8-4e3f-ef3b-f6e46fbbc374"
   },
   "outputs": [
    {
     "data": {
      "text/plain": [
       "[\"5,5'-dimethyl2,2'-bipyridinyl\",\n",
       " \"USP racemic α1 [(tert-Butylamino)methyl]-4-hydroxy-w-xylene- α, α '-diol sulfate (2:l)(salt)\"]"
      ]
     },
     "execution_count": 33,
     "metadata": {
      "tags": []
     },
     "output_type": "execute_result"
    }
   ],
   "source": [
    "chemical_name"
   ]
  },
  {
   "cell_type": "code",
   "execution_count": null,
   "metadata": {
    "id": "J4zICDHTBM49"
   },
   "outputs": [],
   "source": [
    "mined_data = []\n",
    "unmined_data=[]\n",
    "for i,name in enumerate(chemical_name):\n",
    "    try:\n",
    "        driver.get(\"https://opsin.ch.cam.ac.uk/\")\n",
    "        search_chem = driver.find_element_by_id(\"chemicalName\") #Find the chemical\n",
    "        search_chem.clear()\n",
    "        search_chem.send_keys(name) #Fill out the box by using send_key function\n",
    "        driver.find_element_by_id('chemicalNameForm').submit() #find the submit button and click it.\n",
    "        \n",
    "        #We don't need the stdkey again, we will just go with the SMILES only. \n",
    "        driver.implicitly_wait(2)\n",
    "        stdkey= driver.find_element_by_xpath('//*[@id=\"stdinchikey\"]/a').text\n",
    "        smiles=WebDriverWait(driver, 10).until(EC.visibility_of_element_located((By.ID, \"smiles\"))).text\n",
    "        \n",
    "        smiles_list=[i,drug_name[i],active_ingred[i],name,smiles] #includes the drug name and active ingredients.\n",
    "        mined_data.append(smiles_list)\n",
    "    except Exception as e:\n",
    "        unmined_data.append([i,drug_name[i],active_ingred[i],name])"
   ]
  },
  {
   "cell_type": "markdown",
   "metadata": {
    "id": "0O0RNy5cBM5H"
   },
   "source": [
    "### INSTRUCTIONS\n",
    "\n",
    "##### 1. Make the that the chemical name you extracted have no typographical errors or have additonal characters, special character in it, especially at the end. To minimize chances of not mining.  \n",
    "\n",
    "##### 2. You will create a pandas dataframe for each of mined data and unmined data with their index as unique IDs. \n",
    "\n",
    "##### 3. Then we will export them as seperate excel sheet. If possible create a new folder for this on your PC and use the path when exporting below. \n",
    "##### 4. Then inspect the unmined data excel and google the for the SMILES of the chemical name. Then as usual copy and paste. The motive is to have all SMILES of the drug before we proceed to mine other property because we would use it as input for mining."
   ]
  },
  {
   "cell_type": "code",
   "execution_count": null,
   "metadata": {
    "id": "VV3pCEXBBM5N"
   },
   "outputs": [],
   "source": [
    "#Convert to Pandas DataFrame\n",
    "mined_df = pd.DataFrame(mined_data,columns=['id','Drug Name','Active Ingredient','chemical name', 'SMILES'])\n",
    "\n",
    "unmined_df = pd.DataFrame(unmined_data,columns=['id','Drug Name','Active Ingredient','chemical name'])\n"
   ]
  },
  {
   "cell_type": "code",
   "execution_count": null,
   "metadata": {
    "id": "gb66YaZSBM5W"
   },
   "outputs": [],
   "source": [
    "# Export to Excel\n",
    "a=mined_df.to_excel('/Users/frankburg/Documents/drugs/mined.xlsx') # I save in a new folder I created called drugs.\n",
    "b=unmined_df.to_excel('/Users/frankburg/Documents/drugs/unmined.xlsx') "
   ]
  },
  {
   "cell_type": "code",
   "execution_count": null,
   "metadata": {
    "id": "fI3ci8Q-BM5b"
   },
   "outputs": [],
   "source": []
  }
 ],
 "metadata": {
  "colab": {
   "name": "Selenium Bot for Mining SMILES _Updated.ipynb",
   "provenance": []
  },
  "kernelspec": {
   "display_name": "Python 3 (ipykernel)",
   "language": "python",
   "name": "python3"
  },
  "language_info": {
   "codemirror_mode": {
    "name": "ipython",
    "version": 3
   },
   "file_extension": ".py",
   "mimetype": "text/x-python",
   "name": "python",
   "nbconvert_exporter": "python",
   "pygments_lexer": "ipython3",
   "version": "3.9.7"
  }
 },
 "nbformat": 4,
 "nbformat_minor": 4
}
