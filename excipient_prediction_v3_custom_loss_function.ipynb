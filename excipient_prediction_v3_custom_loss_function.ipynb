{
 "cells": [
  {
   "cell_type": "code",
   "execution_count": 3,
   "metadata": {},
   "outputs": [],
   "source": [
    "# !pip install -U scikit-learn\n",
    "# !pip install -q -U keras-tuner"
   ]
  },
  {
   "cell_type": "code",
   "execution_count": 4,
   "metadata": {},
   "outputs": [],
   "source": [
    "import pandas as pd"
   ]
  },
  {
   "cell_type": "code",
   "execution_count": 5,
   "metadata": {},
   "outputs": [],
   "source": [
    "df = pd.read_csv(\"./Compiled DataSheet - Sheet1.csv\") # Replace the csv with the path to your data."
   ]
  },
  {
   "cell_type": "code",
   "execution_count": 6,
   "metadata": {},
   "outputs": [],
   "source": [
    "df.fillna(\"\", inplace=True)"
   ]
  },
  {
   "cell_type": "markdown",
   "metadata": {},
   "source": [
    "# 1. Process the data"
   ]
  },
  {
   "cell_type": "code",
   "execution_count": 7,
   "metadata": {},
   "outputs": [
    {
     "data": {
      "text/html": [
       "<div>\n",
       "<style scoped>\n",
       "    .dataframe tbody tr th:only-of-type {\n",
       "        vertical-align: middle;\n",
       "    }\n",
       "\n",
       "    .dataframe tbody tr th {\n",
       "        vertical-align: top;\n",
       "    }\n",
       "\n",
       "    .dataframe thead th {\n",
       "        text-align: right;\n",
       "    }\n",
       "</style>\n",
       "<table border=\"1\" class=\"dataframe\">\n",
       "  <thead>\n",
       "    <tr style=\"text-align: right;\">\n",
       "      <th></th>\n",
       "      <th>Drug Name</th>\n",
       "      <th>Active Ingredient</th>\n",
       "      <th>chemical name</th>\n",
       "      <th>SMILES</th>\n",
       "      <th>CAS No</th>\n",
       "      <th>Molecular Weight</th>\n",
       "      <th>LogP</th>\n",
       "      <th>Surface Area</th>\n",
       "      <th>Complexity</th>\n",
       "      <th>Excipients A</th>\n",
       "      <th>Excipients B</th>\n",
       "      <th>Excipients C</th>\n",
       "      <th>Excipients D</th>\n",
       "      <th>Excipients E</th>\n",
       "      <th>Excipients F</th>\n",
       "      <th>Excipients G</th>\n",
       "      <th>Excipients H</th>\n",
       "    </tr>\n",
       "  </thead>\n",
       "  <tbody>\n",
       "    <tr>\n",
       "      <th>0</th>\n",
       "      <td>Auvi-Q (Epinephrine Injection)</td>\n",
       "      <td>Epinephrine</td>\n",
       "      <td>1,2-Benzenediol, 4-[(1R)-1-hydroxy-2-(methylam...</td>\n",
       "      <td>O[C@@H](CNC)C=1C=C(C(=CC1)O)O</td>\n",
       "      <td>51-43-4</td>\n",
       "      <td>183.2</td>\n",
       "      <td>-1.4</td>\n",
       "      <td>72.7</td>\n",
       "      <td>154</td>\n",
       "      <td>sodium chloride</td>\n",
       "      <td>sodium bisulfite</td>\n",
       "      <td>hydrochloric acid</td>\n",
       "      <td>water</td>\n",
       "      <td></td>\n",
       "      <td></td>\n",
       "      <td></td>\n",
       "      <td></td>\n",
       "    </tr>\n",
       "    <tr>\n",
       "      <th>1</th>\n",
       "      <td>Avaclyr (Acyclovir Ophthalmic Ointment)</td>\n",
       "      <td>Acyclovir</td>\n",
       "      <td>2-amino-1,9-dihydro-9-[(2-hydroxyethoxy)methyl...</td>\n",
       "      <td>NC=1NC(C=2N=CN(C2N1)COCCO)=O</td>\n",
       "      <td>59277-89-3</td>\n",
       "      <td>225.2</td>\n",
       "      <td>-1.9</td>\n",
       "      <td>115</td>\n",
       "      <td>308</td>\n",
       "      <td>colloidal silicon dioxide</td>\n",
       "      <td>croscarmellose sodium</td>\n",
       "      <td>magnesium stearate</td>\n",
       "      <td>microcrystalline cellulose</td>\n",
       "      <td></td>\n",
       "      <td></td>\n",
       "      <td></td>\n",
       "      <td></td>\n",
       "    </tr>\n",
       "    <tr>\n",
       "      <th>2</th>\n",
       "      <td>Avagard Foam (Avagard Foam Instant Hand Antise...</td>\n",
       "      <td>Ethyl Alcohol</td>\n",
       "      <td>Ethan-1-ol</td>\n",
       "      <td>C(C)O</td>\n",
       "      <td>64-17-5</td>\n",
       "      <td>46.07</td>\n",
       "      <td>-0.1</td>\n",
       "      <td>20.2</td>\n",
       "      <td>2.8</td>\n",
       "      <td>Behentrimomum chloride</td>\n",
       "      <td>bis-PEG-12 dimethicone</td>\n",
       "      <td>cocoglucoside</td>\n",
       "      <td>dihydroxypropyl PEG-5 linoleammonium</td>\n",
       "      <td>glyceryl oleate</td>\n",
       "      <td>PEG-7 glyceryl cocoate</td>\n",
       "      <td>PEG-200 hydrogenated glyceryl palmate</td>\n",
       "      <td>water</td>\n",
       "    </tr>\n",
       "    <tr>\n",
       "      <th>3</th>\n",
       "      <td>Avagard Foam Instant Hand Antiseptic With Mois...</td>\n",
       "      <td>Ethyl Alcohol</td>\n",
       "      <td>Ethan-1-ol</td>\n",
       "      <td>C(C)O</td>\n",
       "      <td>64-17-5</td>\n",
       "      <td>46.07</td>\n",
       "      <td>-0.1</td>\n",
       "      <td>20.2</td>\n",
       "      <td>2.8</td>\n",
       "      <td>Behentrimomum chloride</td>\n",
       "      <td>bis-PEG-12 dimethicone</td>\n",
       "      <td>cocoglucoside</td>\n",
       "      <td>dihydroxypropyl PEG-5 linoleammonium</td>\n",
       "      <td>glyceryl oleate</td>\n",
       "      <td>PEG-7 glyceryl cocoate</td>\n",
       "      <td>PEG-200 hydrogenated glyceryl palmate</td>\n",
       "      <td>water</td>\n",
       "    </tr>\n",
       "    <tr>\n",
       "      <th>4</th>\n",
       "      <td>Avagard Lotion (Avagard Lotion Instant Hand An...</td>\n",
       "      <td>Ethyl Alcohol</td>\n",
       "      <td>Ethan-1-ol</td>\n",
       "      <td>C(C)O</td>\n",
       "      <td>64-17-5</td>\n",
       "      <td>46.07</td>\n",
       "      <td>-0.1</td>\n",
       "      <td>20.2</td>\n",
       "      <td>2.8</td>\n",
       "      <td>Beheneth-10</td>\n",
       "      <td>behenyl alcohol</td>\n",
       "      <td>C20-40 pareth-24</td>\n",
       "      <td>cetyl palmitate</td>\n",
       "      <td>diisopropyl dimer dilinoleate</td>\n",
       "      <td>dimethicone</td>\n",
       "      <td>glycerin</td>\n",
       "      <td>polyethylene glycol</td>\n",
       "    </tr>\n",
       "  </tbody>\n",
       "</table>\n",
       "</div>"
      ],
      "text/plain": [
       "                                           Drug Name Active Ingredient  \\\n",
       "0                     Auvi-Q (Epinephrine Injection)       Epinephrine   \n",
       "1            Avaclyr (Acyclovir Ophthalmic Ointment)         Acyclovir   \n",
       "2  Avagard Foam (Avagard Foam Instant Hand Antise...     Ethyl Alcohol   \n",
       "3  Avagard Foam Instant Hand Antiseptic With Mois...     Ethyl Alcohol   \n",
       "4  Avagard Lotion (Avagard Lotion Instant Hand An...     Ethyl Alcohol   \n",
       "\n",
       "                                       chemical name  \\\n",
       "0  1,2-Benzenediol, 4-[(1R)-1-hydroxy-2-(methylam...   \n",
       "1  2-amino-1,9-dihydro-9-[(2-hydroxyethoxy)methyl...   \n",
       "2                                         Ethan-1-ol   \n",
       "3                                         Ethan-1-ol   \n",
       "4                                         Ethan-1-ol   \n",
       "\n",
       "                          SMILES      CAS No Molecular Weight  LogP  \\\n",
       "0  O[C@@H](CNC)C=1C=C(C(=CC1)O)O     51-43-4            183.2  -1.4   \n",
       "1   NC=1NC(C=2N=CN(C2N1)COCCO)=O  59277-89-3            225.2  -1.9   \n",
       "2                          C(C)O     64-17-5            46.07  -0.1   \n",
       "3                          C(C)O     64-17-5            46.07  -0.1   \n",
       "4                          C(C)O     64-17-5            46.07  -0.1   \n",
       "\n",
       "  Surface Area Complexity               Excipients A            Excipients B  \\\n",
       "0         72.7        154            sodium chloride       sodium bisulfite    \n",
       "1          115        308  colloidal silicon dioxide   croscarmellose sodium   \n",
       "2         20.2        2.8     Behentrimomum chloride  bis-PEG-12 dimethicone   \n",
       "3         20.2        2.8     Behentrimomum chloride  bis-PEG-12 dimethicone   \n",
       "4         20.2        2.8                Beheneth-10         behenyl alcohol   \n",
       "\n",
       "            Excipients C                          Excipients D  \\\n",
       "0      hydrochloric acid                                 water   \n",
       "1   magnesium stearate              microcrystalline cellulose   \n",
       "2          cocoglucoside  dihydroxypropyl PEG-5 linoleammonium   \n",
       "3          cocoglucoside  dihydroxypropyl PEG-5 linoleammonium   \n",
       "4       C20-40 pareth-24                       cetyl palmitate   \n",
       "\n",
       "                     Excipients E            Excipients F  \\\n",
       "0                                                           \n",
       "1                                                           \n",
       "2                 glyceryl oleate  PEG-7 glyceryl cocoate   \n",
       "3                 glyceryl oleate  PEG-7 glyceryl cocoate   \n",
       "4   diisopropyl dimer dilinoleate             dimethicone   \n",
       "\n",
       "                            Excipients G         Excipients H  \n",
       "0                                                              \n",
       "1                                                              \n",
       "2  PEG-200 hydrogenated glyceryl palmate                water  \n",
       "3  PEG-200 hydrogenated glyceryl palmate                water  \n",
       "4                               glycerin  polyethylene glycol  "
      ]
     },
     "execution_count": 7,
     "metadata": {},
     "output_type": "execute_result"
    }
   ],
   "source": [
    "df.head()"
   ]
  },
  {
   "cell_type": "markdown",
   "metadata": {},
   "source": [
    "## 1.1 Show information of data"
   ]
  },
  {
   "cell_type": "code",
   "execution_count": 8,
   "metadata": {},
   "outputs": [
    {
     "name": "stdout",
     "output_type": "stream",
     "text": [
      "<class 'pandas.core.frame.DataFrame'>\n",
      "RangeIndex: 4451 entries, 0 to 4450\n",
      "Data columns (total 17 columns):\n",
      " #   Column             Non-Null Count  Dtype \n",
      "---  ------             --------------  ----- \n",
      " 0   Drug Name          4451 non-null   object\n",
      " 1   Active Ingredient  4451 non-null   object\n",
      " 2   chemical name      4451 non-null   object\n",
      " 3   SMILES             4451 non-null   object\n",
      " 4   CAS No             4451 non-null   object\n",
      " 5   Molecular Weight   4451 non-null   object\n",
      " 6   LogP               4451 non-null   object\n",
      " 7   Surface Area       4451 non-null   object\n",
      " 8   Complexity         4451 non-null   object\n",
      " 9   Excipients A       4451 non-null   object\n",
      " 10  Excipients B       4451 non-null   object\n",
      " 11  Excipients C       4451 non-null   object\n",
      " 12  Excipients D       4451 non-null   object\n",
      " 13  Excipients E       4451 non-null   object\n",
      " 14  Excipients F       4451 non-null   object\n",
      " 15  Excipients G       4451 non-null   object\n",
      " 16  Excipients H       4451 non-null   object\n",
      "dtypes: object(17)\n",
      "memory usage: 591.3+ KB\n"
     ]
    }
   ],
   "source": [
    "df.info()"
   ]
  },
  {
   "cell_type": "code",
   "execution_count": 9,
   "metadata": {},
   "outputs": [
    {
     "data": {
      "text/html": [
       "<div>\n",
       "<style scoped>\n",
       "    .dataframe tbody tr th:only-of-type {\n",
       "        vertical-align: middle;\n",
       "    }\n",
       "\n",
       "    .dataframe tbody tr th {\n",
       "        vertical-align: top;\n",
       "    }\n",
       "\n",
       "    .dataframe thead th {\n",
       "        text-align: right;\n",
       "    }\n",
       "</style>\n",
       "<table border=\"1\" class=\"dataframe\">\n",
       "  <thead>\n",
       "    <tr style=\"text-align: right;\">\n",
       "      <th></th>\n",
       "      <th>Drug Name</th>\n",
       "      <th>Active Ingredient</th>\n",
       "      <th>chemical name</th>\n",
       "      <th>SMILES</th>\n",
       "      <th>CAS No</th>\n",
       "      <th>Molecular Weight</th>\n",
       "      <th>LogP</th>\n",
       "      <th>Surface Area</th>\n",
       "      <th>Complexity</th>\n",
       "      <th>Excipients A</th>\n",
       "      <th>Excipients B</th>\n",
       "      <th>Excipients C</th>\n",
       "      <th>Excipients D</th>\n",
       "      <th>Excipients E</th>\n",
       "      <th>Excipients F</th>\n",
       "      <th>Excipients G</th>\n",
       "      <th>Excipients H</th>\n",
       "    </tr>\n",
       "  </thead>\n",
       "  <tbody>\n",
       "    <tr>\n",
       "      <th>count</th>\n",
       "      <td>4451</td>\n",
       "      <td>4451</td>\n",
       "      <td>4451</td>\n",
       "      <td>4451</td>\n",
       "      <td>4451</td>\n",
       "      <td>4451</td>\n",
       "      <td>4451</td>\n",
       "      <td>4451</td>\n",
       "      <td>4451</td>\n",
       "      <td>4451</td>\n",
       "      <td>4451</td>\n",
       "      <td>4451</td>\n",
       "      <td>4451</td>\n",
       "      <td>4451</td>\n",
       "      <td>4451</td>\n",
       "      <td>4451</td>\n",
       "      <td>4451</td>\n",
       "    </tr>\n",
       "    <tr>\n",
       "      <th>unique</th>\n",
       "      <td>2410</td>\n",
       "      <td>1756</td>\n",
       "      <td>1621</td>\n",
       "      <td>1316</td>\n",
       "      <td>978</td>\n",
       "      <td>950</td>\n",
       "      <td>166</td>\n",
       "      <td>488</td>\n",
       "      <td>568</td>\n",
       "      <td>838</td>\n",
       "      <td>839</td>\n",
       "      <td>748</td>\n",
       "      <td>653</td>\n",
       "      <td>544</td>\n",
       "      <td>498</td>\n",
       "      <td>438</td>\n",
       "      <td>318</td>\n",
       "    </tr>\n",
       "    <tr>\n",
       "      <th>top</th>\n",
       "      <td>PlasmaLyte R (Multiple Electrolytes Injection)</td>\n",
       "      <td></td>\n",
       "      <td></td>\n",
       "      <td></td>\n",
       "      <td></td>\n",
       "      <td></td>\n",
       "      <td></td>\n",
       "      <td></td>\n",
       "      <td></td>\n",
       "      <td></td>\n",
       "      <td></td>\n",
       "      <td></td>\n",
       "      <td></td>\n",
       "      <td></td>\n",
       "      <td></td>\n",
       "      <td></td>\n",
       "      <td></td>\n",
       "    </tr>\n",
       "    <tr>\n",
       "      <th>freq</th>\n",
       "      <td>9</td>\n",
       "      <td>36</td>\n",
       "      <td>143</td>\n",
       "      <td>295</td>\n",
       "      <td>1058</td>\n",
       "      <td>881</td>\n",
       "      <td>1528</td>\n",
       "      <td>984</td>\n",
       "      <td>983</td>\n",
       "      <td>297</td>\n",
       "      <td>480</td>\n",
       "      <td>844</td>\n",
       "      <td>1200</td>\n",
       "      <td>1689</td>\n",
       "      <td>2171</td>\n",
       "      <td>2615</td>\n",
       "      <td>2978</td>\n",
       "    </tr>\n",
       "  </tbody>\n",
       "</table>\n",
       "</div>"
      ],
      "text/plain": [
       "                                             Drug Name Active Ingredient  \\\n",
       "count                                             4451              4451   \n",
       "unique                                            2410              1756   \n",
       "top     PlasmaLyte R (Multiple Electrolytes Injection)                     \n",
       "freq                                                 9                36   \n",
       "\n",
       "       chemical name SMILES CAS No Molecular Weight  LogP Surface Area  \\\n",
       "count           4451   4451   4451             4451  4451         4451   \n",
       "unique          1621   1316    978              950   166          488   \n",
       "top                                                                      \n",
       "freq             143    295   1058              881  1528          984   \n",
       "\n",
       "       Complexity Excipients A Excipients B Excipients C Excipients D  \\\n",
       "count        4451         4451         4451         4451         4451   \n",
       "unique        568          838          839          748          653   \n",
       "top                                                                     \n",
       "freq          983          297          480          844         1200   \n",
       "\n",
       "       Excipients E Excipients F Excipients G Excipients H  \n",
       "count          4451         4451         4451         4451  \n",
       "unique          544          498          438          318  \n",
       "top                                                         \n",
       "freq           1689         2171         2615         2978  "
      ]
     },
     "execution_count": 9,
     "metadata": {},
     "output_type": "execute_result"
    }
   ],
   "source": [
    "df.describe()"
   ]
  },
  {
   "cell_type": "markdown",
   "metadata": {},
   "source": [
    "## 1.2 Format data from one line to many lines based on number of Excipients"
   ]
  },
  {
   "cell_type": "code",
   "execution_count": 10,
   "metadata": {},
   "outputs": [],
   "source": [
    "X_cols = ['SMILES']"
   ]
  },
  {
   "cell_type": "code",
   "execution_count": 11,
   "metadata": {},
   "outputs": [],
   "source": [
    "Y_cols = ['Excipients A', \n",
    "          'Excipients B', \n",
    "          'Excipients C', \n",
    "          'Excipients D',\n",
    "          'Excipients E', \n",
    "          'Excipients F', \n",
    "          'Excipients G', \n",
    "          'Excipients H']"
   ]
  },
  {
   "cell_type": "code",
   "execution_count": 12,
   "metadata": {},
   "outputs": [],
   "source": [
    "# Transform the data to use only smile and the excipient. Rearranging it in such a way we have only the \n",
    "# excipient and repeating the smiles for each excipient.\n",
    "\n",
    "tranform_data = []\n",
    "for index, row in df.iterrows():\n",
    "    for y_col in Y_cols:\n",
    "        if not row[y_col]:\n",
    "            continue\n",
    "        data_point = {}\n",
    "        for x_col in X_cols:\n",
    "            data_point[x_col] = row[x_col]\n",
    "        data_point['excipients'] = row[y_col].strip()\n",
    "        tranform_data.append(data_point)\n",
    "            \n",
    "tranform_data_df = pd.DataFrame(data=tranform_data)"
   ]
  },
  {
   "cell_type": "code",
   "execution_count": 13,
   "metadata": {},
   "outputs": [
    {
     "data": {
      "text/html": [
       "<div>\n",
       "<style scoped>\n",
       "    .dataframe tbody tr th:only-of-type {\n",
       "        vertical-align: middle;\n",
       "    }\n",
       "\n",
       "    .dataframe tbody tr th {\n",
       "        vertical-align: top;\n",
       "    }\n",
       "\n",
       "    .dataframe thead th {\n",
       "        text-align: right;\n",
       "    }\n",
       "</style>\n",
       "<table border=\"1\" class=\"dataframe\">\n",
       "  <thead>\n",
       "    <tr style=\"text-align: right;\">\n",
       "      <th></th>\n",
       "      <th>SMILES</th>\n",
       "      <th>excipients</th>\n",
       "    </tr>\n",
       "  </thead>\n",
       "  <tbody>\n",
       "    <tr>\n",
       "      <th>0</th>\n",
       "      <td>O[C@@H](CNC)C=1C=C(C(=CC1)O)O</td>\n",
       "      <td>sodium chloride</td>\n",
       "    </tr>\n",
       "    <tr>\n",
       "      <th>1</th>\n",
       "      <td>O[C@@H](CNC)C=1C=C(C(=CC1)O)O</td>\n",
       "      <td>sodium bisulfite</td>\n",
       "    </tr>\n",
       "    <tr>\n",
       "      <th>2</th>\n",
       "      <td>O[C@@H](CNC)C=1C=C(C(=CC1)O)O</td>\n",
       "      <td>hydrochloric acid</td>\n",
       "    </tr>\n",
       "    <tr>\n",
       "      <th>3</th>\n",
       "      <td>O[C@@H](CNC)C=1C=C(C(=CC1)O)O</td>\n",
       "      <td>water</td>\n",
       "    </tr>\n",
       "    <tr>\n",
       "      <th>4</th>\n",
       "      <td>NC=1NC(C=2N=CN(C2N1)COCCO)=O</td>\n",
       "      <td>colloidal silicon dioxide</td>\n",
       "    </tr>\n",
       "  </tbody>\n",
       "</table>\n",
       "</div>"
      ],
      "text/plain": [
       "                          SMILES                 excipients\n",
       "0  O[C@@H](CNC)C=1C=C(C(=CC1)O)O            sodium chloride\n",
       "1  O[C@@H](CNC)C=1C=C(C(=CC1)O)O           sodium bisulfite\n",
       "2  O[C@@H](CNC)C=1C=C(C(=CC1)O)O          hydrochloric acid\n",
       "3  O[C@@H](CNC)C=1C=C(C(=CC1)O)O                      water\n",
       "4   NC=1NC(C=2N=CN(C2N1)COCCO)=O  colloidal silicon dioxide"
      ]
     },
     "execution_count": 13,
     "metadata": {},
     "output_type": "execute_result"
    }
   ],
   "source": [
    "tranform_data_df.head()"
   ]
  },
  {
   "cell_type": "markdown",
   "metadata": {},
   "source": [
    "## 1.3 Encode SMILES using RDKit"
   ]
  },
  {
   "cell_type": "code",
   "execution_count": 14,
   "metadata": {},
   "outputs": [
    {
     "name": "stdout",
     "output_type": "stream",
     "text": [
      "smile_encode:  [[0. 0. 0. ... 0. 0. 0.]\n",
      " [0. 0. 0. ... 0. 0. 0.]\n",
      " [0. 0. 0. ... 0. 0. 0.]\n",
      " ...\n",
      " [0. 0. 0. ... 0. 0. 0.]\n",
      " [0. 0. 0. ... 0. 0. 0.]\n",
      " [0. 0. 0. ... 0. 0. 0.]]\n",
      "smile_encode shape:  (150, 56)\n",
      "decode:  NC=1NC(C=2N=CN(C2N1)[C@@H]1C[C@@H]([C@H](O1)COP(=S)([O-])O[C@@H]1[C@H](O[C@@H](C1)N1C(NC(C(=C1)C)=O)=O)COP(=S)([O-])O[C@@H]1[C@H](O[C@H](C1)N1C(NC(C(=\n"
     ]
    }
   ],
   "source": [
    "import numpy as np\n",
    "\n",
    "SMILES_CHARS = [' ',\n",
    "                    '#', '%', '(', ')', '+', '-', '.', '/',\n",
    "                    '0', '1', '2', '3', '4', '5', '6', '7', '8', '9',\n",
    "                    '=', '@',\n",
    "                    'A', 'B', 'C', 'F', 'H', 'I', 'K', 'L', 'M', 'N', 'O', 'P',\n",
    "                    'R', 'S', 'T', 'V', 'X', 'Z',\n",
    "                    '[', '\\\\', ']',\n",
    "                    'a', 'b', 'c', 'e', 'g', 'i', 'l', 'n', 'o', 'p', 'r', 's',\n",
    "                    't', 'u']\n",
    "pad_char=' '\n",
    "pad_min=1\n",
    "max_len=150\n",
    "\n",
    "\n",
    "class CharacterTable(object):\n",
    "    '''\n",
    "    Given a set of characters:\n",
    "    + Encode them to a one hot integer representation\n",
    "    + Decode the one hot integer representation to their character output\n",
    "    + Decode a vector of probabilities to their character output\n",
    "    first version by rmcgibbo\n",
    "    '''\n",
    "\n",
    "    def __init__(self, chars, maxlen):\n",
    "        self.chars = sorted(set(chars))\n",
    "        self.char_indices = dict((c, i) for i, c in enumerate(self.chars))\n",
    "        self.indices_char = dict((i, c) for i, c in enumerate(self.chars))\n",
    "        self.maxlen = maxlen\n",
    "\n",
    "    def encode(self, C, maxlen=None):\n",
    "        try:\n",
    "            maxlen = maxlen if maxlen else self.maxlen\n",
    "            X = np.zeros((maxlen, len(self.chars)))\n",
    "            for i, c in enumerate(C):\n",
    "                if i>= maxlen:\n",
    "                    break\n",
    "                X[i, self.char_indices[c]] = 1\n",
    "            return X, True\n",
    "        except Exception as e:\n",
    "            print(e)\n",
    "            return _, False\n",
    "\n",
    "    def decode(self, X, mode='argmax'):\n",
    "        if mode == 'argmax':\n",
    "            X = X.argmax(axis=-1)\n",
    "        elif mode == 'choice':\n",
    "            X = np.apply_along_axis(lambda vec: \\\n",
    "                                        np.random.choice(len(vec), 1,\n",
    "                                                         p=(vec / np.sum(vec))),\n",
    "                                    axis=-1, arr=X).ravel()\n",
    "        return str.join('', (self.indices_char[x] for x in X))\n",
    "\n",
    "chars = sorted(set.union(set(SMILES_CHARS), set(pad_char)))   \n",
    "character_table = CharacterTable(chars, max_len)\n",
    "\n",
    "smile_encode, _ = character_table.encode(\"NC=1NC(C=2N=CN(C2N1)[C@@H]1C[C@@H]([C@H](O1)COP(=S)([O-])O[C@@H]1[C@H](O[C@@H](C1)N1C(NC(C(=C1)C)=O)=O)COP(=S)([O-])O[C@@H]1[C@H](O[C@H](C1)N1C(NC(C(=C1)C)=O)=O)COP(=S)([O-])O[C@@H]1[C@H](O[C@H](C1)N1C(NC(C(=C1)C)=O)=O)COP(=S)([O-])O[C@@H]1[C@@H](O[C@H](C1)N1C=2N=C(NC(C2N=C1)=O)N)COP(=S)([O-])O[C@@H]1[C@@H](O[C@H](C1)N1C(N=C(C=C1)N)=O)COP(=S)([O-])O[C@@H]1[C@@H](O[C@H](C1)N1C=2N=C(NC(C2N=C1)=O)N)CO)OP(=S)(OC[C@H]1O[C@@H](C[C@@H]1OP(=S)(OC[C@H]1[C@H](C[C@H](O1)N1C(NC(C(=C1)C)=O)=O)OP(=S)([O-])OC[C@H]1O[C@@H](C[C@@H]1OP(=S)([O-])OC[C@@H]1O[C@H](C[C@@H]1OP(=S)([O-])OC[C@H]1O[C@@H](C[C@H]1OP(=S)([O-])OC[C@H]1O[C@@H](C[C@@H]1OP(=S)([O-])OC[C@H]1O[C@H](C[C@@H]1OP(=S)([O-])OC[C@H]1O[C@H](C[C@@H]1OP(=S)([O-])OC[C@H]1O[C@@H](C[C@@H]1OP(=S)([O-])OC[C@H]1O[C@H](C[C@@H]1OP(=S)([O-])OC[C@@H]1O[C@H](C[C@@H]1OP(=S)([O-])OC[C@@H]1O[C@H](C[C@@H]1OP(=S)([O-])OC[C@H]1O[C@H](C[C@H]1OP(=S)([O-])OC[C@H]1O[C@@H](C[C@@H]1O)N1C=2N=C(NC(C2N=C1)=O)N)N1C(N=C(C=C1)N)=O)N1C=2N=C(NC(C2N=C1)=O)N)N1C(NC(C(=C1)C)=O)=O)N1C(NC(C(=C1)C)=O)=O)N1C(N=C(C=C1)N)=O)N1C(NC(C(=C1)C)=O)=O)N1C(NC(C(=C1)C)=O)=O)N1C(N=C(C=C1)N)=O)N1C(NC(C(=C1)C)=O)=O)N1C(NC(C(=C1)C)=O)=O)N1C(N=C(C=C1)N)=O)[O-])N1C(N=C(C=C1)N)=O)[O-])=O.[Na+].[Na+].[Na+].[Na+].[Na+].[Na+].[Na+].[Na+].[Na+].[Na+].[Na+].[Na+].[Na+].[Na+].[Na+].[Na+].[Na+].[Na+].[Na+].[Na+]\", maxlen=max_len)\n",
    "print(\"smile_encode: \", smile_encode)\n",
    "print(\"smile_encode shape: \", smile_encode.shape)\n",
    "print(\"decode: \", character_table.decode(smile_encode))"
   ]
  },
  {
   "cell_type": "markdown",
   "metadata": {},
   "source": [
    "## 1.4 Encode excipients"
   ]
  },
  {
   "cell_type": "code",
   "execution_count": 15,
   "metadata": {},
   "outputs": [
    {
     "data": {
      "text/plain": [
       "LabelEncoder()"
      ]
     },
     "execution_count": 15,
     "metadata": {},
     "output_type": "execute_result"
    }
   ],
   "source": [
    "from sklearn import preprocessing\n",
    "\n",
    "# Encode target labels with value between 0 and n_classes-1.\n",
    "excipients_encoder = preprocessing.LabelEncoder()\n",
    "excipients_encoder.fit(list(tranform_data_df.excipients))"
   ]
  },
  {
   "cell_type": "markdown",
   "metadata": {},
   "source": [
    "## 1.5 Create data"
   ]
  },
  {
   "cell_type": "code",
   "execution_count": null,
   "metadata": {},
   "outputs": [],
   "source": [
    "# Only keep SMILES as input variable\n",
    "\n",
    "X_list = []\n",
    "Y_list = []\n",
    "for index, row in tranform_data_df.iterrows():\n",
    "    smile = row['SMILES'].strip()\n",
    "    if not smile:\n",
    "        continue \n",
    "    smile_encode, is_ok = character_table.encode(smile)\n",
    "    if not is_ok:\n",
    "        continue\n",
    "\n",
    "    X_list.append(smile_encode)\n",
    "    Y_list.append(excipients_encoder.transform([row['excipients']])[0])\n"
   ]
  },
  {
   "cell_type": "code",
   "execution_count": 17,
   "metadata": {},
   "outputs": [
    {
     "name": "stdout",
     "output_type": "stream",
     "text": [
      "Total data points:  21928\n"
     ]
    }
   ],
   "source": [
    "print(\"Total data points: \", len(X_list))"
   ]
  },
  {
   "cell_type": "code",
   "execution_count": 18,
   "metadata": {},
   "outputs": [
    {
     "data": {
      "text/plain": [
       "(150, 56)"
      ]
     },
     "execution_count": 18,
     "metadata": {},
     "output_type": "execute_result"
    }
   ],
   "source": [
    "X_list[0].shape #Shape of each element of SMILES"
   ]
  },
  {
   "cell_type": "code",
   "execution_count": 19,
   "metadata": {},
   "outputs": [
    {
     "name": "stdout",
     "output_type": "stream",
     "text": [
      "X shape:  (21928, 150, 56)\n"
     ]
    }
   ],
   "source": [
    "# We combine all element or datapoint into one matrix by stacking them for the input variable (smile)\n",
    "\n",
    "X = np.stack(X_list, axis=0)\n",
    "print(\"X shape: \", X.shape)"
   ]
  },
  {
   "cell_type": "code",
   "execution_count": 20,
   "metadata": {},
   "outputs": [
    {
     "name": "stdout",
     "output_type": "stream",
     "text": [
      "y shape:  (21928, 1)\n"
     ]
    }
   ],
   "source": [
    "# We combine all element or datapoint into one matrix by stacking them for the label (the excipients)\n",
    "\n",
    "y = np.stack(Y_list, axis=0).reshape((len(Y_list), 1))\n",
    "print(\"y shape: \", y.shape)"
   ]
  },
  {
   "cell_type": "code",
   "execution_count": 21,
   "metadata": {},
   "outputs": [],
   "source": [
    "from sklearn.model_selection import train_test_split\n",
    "X_train, X_test, y_train, y_test = train_test_split(X, y, test_size=0.33, random_state=42)"
   ]
  },
  {
   "cell_type": "code",
   "execution_count": 22,
   "metadata": {},
   "outputs": [
    {
     "name": "stdout",
     "output_type": "stream",
     "text": [
      "X train shape:  (14691, 150, 56)\n",
      "X test shape:  (7237, 150, 56)\n",
      "Y train shape:  (14691, 1)\n",
      "Y test shape:  (7237, 1)\n"
     ]
    }
   ],
   "source": [
    "print(\"X train shape: \", X_train.shape)\n",
    "print(\"X test shape: \", X_test.shape)\n",
    "print(\"Y train shape: \", y_train.shape)\n",
    "print(\"Y test shape: \", y_test.shape)"
   ]
  },
  {
   "cell_type": "markdown",
   "metadata": {},
   "source": [
    "# 2. Create machine learning models"
   ]
  },
  {
   "cell_type": "code",
   "execution_count": 23,
   "metadata": {},
   "outputs": [],
   "source": [
    "import numpy as np\n",
    "import tensorflow as tf #Google Colab \n",
    "from tensorflow import keras"
   ]
  },
  {
   "cell_type": "markdown",
   "metadata": {},
   "source": [
    "# Tuning parameter"
   ]
  },
  {
   "cell_type": "code",
   "execution_count": 26,
   "metadata": {},
   "outputs": [],
   "source": [
    "input_shape = (150, 56)\n",
    "output_classes = len(excipients_encoder.classes_)\n",
    "\n",
    "def model_builder(hp):\n",
    "    \"\"\"\n",
    "    Build machine learning model for tuning parameters.\n",
    "    \"\"\"\n",
    "    model = keras.Sequential() # Create a sequential model (neural network)\n",
    "    model.add(keras.layers.Flatten(input_shape=input_shape)) # add the layers of the model\n",
    "\n",
    "    # Tune the number of units in the first Dense layer\n",
    "    # Choose an optimal value between 32-512\n",
    "    hp_units = hp.Int('units', min_value=32, max_value=512, step=32)\n",
    "    model.add(keras.layers.Dense(units=hp_units, activation='relu'))\n",
    "    model.add(keras.layers.Dense(output_classes))\n",
    "\n",
    "    # Tune the learning rate for the optimizer\n",
    "    # Choose an optimal value from 0.01, 0.001, or 0.0001\n",
    "    hp_learning_rate = hp.Choice('learning_rate', values=[1e-2, 1e-3, 1e-4])\n",
    "\n",
    "    model.compile(optimizer=keras.optimizers.Adam(learning_rate=hp_learning_rate),\n",
    "                loss=keras.losses.SparseCategoricalCrossentropy(from_logits=True),\n",
    "                metrics=['accuracy'])\n",
    "\n",
    "    return model"
   ]
  },
  {
   "cell_type": "code",
   "execution_count": 27,
   "metadata": {},
   "outputs": [
    {
     "name": "stdout",
     "output_type": "stream",
     "text": [
      "INFO:tensorflow:Reloading Oracle from existing project my_dir/intro_to_kt/oracle.json\n",
      "INFO:tensorflow:Reloading Tuner from my_dir/intro_to_kt/tuner0.json\n",
      "INFO:tensorflow:Oracle triggered exit\n",
      "\n",
      "The hyperparameter search is complete. The optimal number of units in the first densely-connected\n",
      "layer is 160 and the optimal learning rate for the optimizer\n",
      "is 0.001.\n",
      "\n"
     ]
    }
   ],
   "source": [
    "import kerastuner as kt\n",
    "tuner = kt.Hyperband(model_builder,\n",
    "                     objective='val_accuracy',\n",
    "                     max_epochs=10,\n",
    "                     factor=3,\n",
    "                     directory='my_dir',\n",
    "                     project_name='intro_to_kt')\n",
    "\n",
    "stop_early = tf.keras.callbacks.EarlyStopping(monitor='val_loss', patience=5)\n",
    "\n",
    "tuner.search(X_train, y_train, epochs=50, validation_split=0.2, callbacks=[stop_early])\n",
    "\n",
    "# Get the optimal hyperparameters\n",
    "best_hps=tuner.get_best_hyperparameters(num_trials=1)[0]\n",
    "\n",
    "print(f\"\"\"\n",
    "The hyperparameter search is complete. The optimal number of units in the first densely-connected\n",
    "layer is {best_hps.get('units')} and the optimal learning rate for the optimizer\n",
    "is {best_hps.get('learning_rate')}.\n",
    "\"\"\")"
   ]
  },
  {
   "cell_type": "code",
   "execution_count": 28,
   "metadata": {
    "scrolled": true
   },
   "outputs": [
    {
     "name": "stdout",
     "output_type": "stream",
     "text": [
      "Epoch 1/50\n",
      "368/368 [==============================] - 2s 5ms/step - loss: 6.7774 - accuracy: 0.0347 - val_loss: 6.0810 - val_accuracy: 0.0436\n",
      "Epoch 2/50\n",
      "368/368 [==============================] - 1s 4ms/step - loss: 5.4578 - accuracy: 0.0564 - val_loss: 5.7542 - val_accuracy: 0.0493\n",
      "Epoch 3/50\n",
      "368/368 [==============================] - 1s 4ms/step - loss: 4.6594 - accuracy: 0.0833 - val_loss: 5.6200 - val_accuracy: 0.0521\n",
      "Epoch 4/50\n",
      "368/368 [==============================] - 1s 4ms/step - loss: 3.9866 - accuracy: 0.1111 - val_loss: 5.6266 - val_accuracy: 0.0504\n",
      "Epoch 5/50\n",
      "368/368 [==============================] - 2s 4ms/step - loss: 3.4912 - accuracy: 0.1288 - val_loss: 5.6567 - val_accuracy: 0.0487\n",
      "Epoch 6/50\n",
      "368/368 [==============================] - 1s 4ms/step - loss: 3.2021 - accuracy: 0.1322 - val_loss: 5.7689 - val_accuracy: 0.0480\n",
      "Epoch 7/50\n",
      "368/368 [==============================] - 2s 4ms/step - loss: 3.0001 - accuracy: 0.1340 - val_loss: 5.8504 - val_accuracy: 0.0371\n",
      "Epoch 8/50\n",
      "368/368 [==============================] - 1s 4ms/step - loss: 2.8728 - accuracy: 0.1348 - val_loss: 5.9343 - val_accuracy: 0.0357\n",
      "Epoch 9/50\n",
      "368/368 [==============================] - 1s 4ms/step - loss: 2.7984 - accuracy: 0.1286 - val_loss: 5.9746 - val_accuracy: 0.0419\n",
      "Epoch 10/50\n",
      "368/368 [==============================] - 1s 4ms/step - loss: 2.7255 - accuracy: 0.1394 - val_loss: 6.0478 - val_accuracy: 0.0436\n",
      "Epoch 11/50\n",
      "368/368 [==============================] - 1s 4ms/step - loss: 2.7055 - accuracy: 0.1284 - val_loss: 6.1285 - val_accuracy: 0.0463\n",
      "Epoch 12/50\n",
      "368/368 [==============================] - 1s 4ms/step - loss: 2.6430 - accuracy: 0.1329 - val_loss: 6.1450 - val_accuracy: 0.0388\n",
      "Epoch 13/50\n",
      "368/368 [==============================] - 1s 4ms/step - loss: 2.6455 - accuracy: 0.1353 - val_loss: 6.1626 - val_accuracy: 0.0388\n",
      "Epoch 14/50\n",
      "368/368 [==============================] - 1s 4ms/step - loss: 2.6195 - accuracy: 0.1291 - val_loss: 6.2384 - val_accuracy: 0.0388\n",
      "Epoch 15/50\n",
      "368/368 [==============================] - 1s 4ms/step - loss: 2.5916 - accuracy: 0.1319 - val_loss: 6.3140 - val_accuracy: 0.0412\n",
      "Epoch 16/50\n",
      "368/368 [==============================] - 1s 4ms/step - loss: 2.5702 - accuracy: 0.1411 - val_loss: 6.3301 - val_accuracy: 0.0401\n",
      "Epoch 17/50\n",
      "368/368 [==============================] - 1s 4ms/step - loss: 2.5614 - accuracy: 0.1296 - val_loss: 6.3659 - val_accuracy: 0.0395\n",
      "Epoch 18/50\n",
      "368/368 [==============================] - 1s 4ms/step - loss: 2.5543 - accuracy: 0.1345 - val_loss: 6.3815 - val_accuracy: 0.0449\n",
      "Epoch 19/50\n",
      "368/368 [==============================] - 1s 4ms/step - loss: 2.5378 - accuracy: 0.1383 - val_loss: 6.4497 - val_accuracy: 0.0401\n",
      "Epoch 20/50\n",
      "368/368 [==============================] - 1s 4ms/step - loss: 2.5401 - accuracy: 0.1312 - val_loss: 6.4930 - val_accuracy: 0.0357\n",
      "Epoch 21/50\n",
      "368/368 [==============================] - 1s 4ms/step - loss: 2.5318 - accuracy: 0.1322 - val_loss: 6.5161 - val_accuracy: 0.0401\n",
      "Epoch 22/50\n",
      "368/368 [==============================] - 1s 4ms/step - loss: 2.5088 - accuracy: 0.1408 - val_loss: 6.5691 - val_accuracy: 0.0384\n",
      "Epoch 23/50\n",
      "368/368 [==============================] - 1s 4ms/step - loss: 2.5215 - accuracy: 0.1315 - val_loss: 6.6221 - val_accuracy: 0.0357\n",
      "Epoch 24/50\n",
      "368/368 [==============================] - 1s 4ms/step - loss: 2.5029 - accuracy: 0.1375 - val_loss: 6.6508 - val_accuracy: 0.0388\n",
      "Epoch 25/50\n",
      "368/368 [==============================] - 1s 4ms/step - loss: 2.4979 - accuracy: 0.1363 - val_loss: 6.6924 - val_accuracy: 0.0371\n",
      "Epoch 26/50\n",
      "368/368 [==============================] - 1s 4ms/step - loss: 2.4857 - accuracy: 0.1366 - val_loss: 6.7021 - val_accuracy: 0.0415\n",
      "Epoch 27/50\n",
      "368/368 [==============================] - 1s 4ms/step - loss: 2.4934 - accuracy: 0.1376 - val_loss: 6.7217 - val_accuracy: 0.0398\n",
      "Epoch 28/50\n",
      "368/368 [==============================] - 2s 4ms/step - loss: 2.4900 - accuracy: 0.1405 - val_loss: 6.8486 - val_accuracy: 0.0395\n",
      "Epoch 29/50\n",
      "368/368 [==============================] - 1s 4ms/step - loss: 2.4800 - accuracy: 0.1427 - val_loss: 6.8084 - val_accuracy: 0.0405\n",
      "Epoch 30/50\n",
      "368/368 [==============================] - 1s 4ms/step - loss: 2.4879 - accuracy: 0.1297 - val_loss: 6.8515 - val_accuracy: 0.0391\n",
      "Epoch 31/50\n",
      "368/368 [==============================] - 1s 4ms/step - loss: 2.4736 - accuracy: 0.1354 - val_loss: 6.9081 - val_accuracy: 0.0405\n",
      "Epoch 32/50\n",
      "368/368 [==============================] - 1s 4ms/step - loss: 2.4773 - accuracy: 0.1356 - val_loss: 6.9244 - val_accuracy: 0.0436\n",
      "Epoch 33/50\n",
      "368/368 [==============================] - 1s 4ms/step - loss: 2.4742 - accuracy: 0.1360 - val_loss: 6.9883 - val_accuracy: 0.0384\n",
      "Epoch 34/50\n",
      "368/368 [==============================] - 1s 4ms/step - loss: 2.4827 - accuracy: 0.1401 - val_loss: 6.9935 - val_accuracy: 0.0364\n",
      "Epoch 35/50\n",
      "368/368 [==============================] - 1s 4ms/step - loss: 2.4557 - accuracy: 0.1350 - val_loss: 7.0616 - val_accuracy: 0.0388\n",
      "Epoch 36/50\n",
      "368/368 [==============================] - 1s 4ms/step - loss: 2.4502 - accuracy: 0.1374 - val_loss: 7.1010 - val_accuracy: 0.0415\n",
      "Epoch 37/50\n",
      "368/368 [==============================] - 1s 4ms/step - loss: 2.4593 - accuracy: 0.1478 - val_loss: 7.1838 - val_accuracy: 0.0419\n",
      "Epoch 38/50\n",
      "368/368 [==============================] - 1s 4ms/step - loss: 2.4675 - accuracy: 0.1340 - val_loss: 7.1407 - val_accuracy: 0.0344\n",
      "Epoch 39/50\n",
      "368/368 [==============================] - 1s 4ms/step - loss: 2.4488 - accuracy: 0.1454 - val_loss: 7.1759 - val_accuracy: 0.0371\n",
      "Epoch 40/50\n",
      "368/368 [==============================] - 1s 4ms/step - loss: 2.4530 - accuracy: 0.1427 - val_loss: 7.2362 - val_accuracy: 0.0364\n",
      "Epoch 41/50\n",
      "368/368 [==============================] - 1s 4ms/step - loss: 2.4626 - accuracy: 0.1354 - val_loss: 7.2640 - val_accuracy: 0.0330\n",
      "Epoch 42/50\n",
      "368/368 [==============================] - 1s 4ms/step - loss: 2.4399 - accuracy: 0.1308 - val_loss: 7.3204 - val_accuracy: 0.0391\n",
      "Epoch 43/50\n",
      "368/368 [==============================] - 1s 4ms/step - loss: 2.4498 - accuracy: 0.1376 - val_loss: 7.3717 - val_accuracy: 0.0361\n",
      "Epoch 44/50\n",
      "368/368 [==============================] - 1s 4ms/step - loss: 2.4416 - accuracy: 0.1336 - val_loss: 7.4372 - val_accuracy: 0.0340\n",
      "Epoch 45/50\n",
      "368/368 [==============================] - 1s 4ms/step - loss: 2.4372 - accuracy: 0.1386 - val_loss: 7.4845 - val_accuracy: 0.0374\n",
      "Epoch 46/50\n",
      "368/368 [==============================] - 1s 4ms/step - loss: 2.4224 - accuracy: 0.1459 - val_loss: 7.4492 - val_accuracy: 0.0415\n",
      "Epoch 47/50\n",
      "368/368 [==============================] - 1s 4ms/step - loss: 2.4292 - accuracy: 0.1418 - val_loss: 7.4727 - val_accuracy: 0.0378\n",
      "Epoch 48/50\n",
      "368/368 [==============================] - 1s 4ms/step - loss: 2.4295 - accuracy: 0.1418 - val_loss: 7.5684 - val_accuracy: 0.0408\n",
      "Epoch 49/50\n",
      "368/368 [==============================] - 1s 4ms/step - loss: 2.4389 - accuracy: 0.1432 - val_loss: 7.6008 - val_accuracy: 0.0408\n",
      "Epoch 50/50\n",
      "368/368 [==============================] - 1s 4ms/step - loss: 2.4312 - accuracy: 0.1428 - val_loss: 7.6037 - val_accuracy: 0.0371\n",
      "Best epoch: 3\n"
     ]
    }
   ],
   "source": [
    "# Build the model with the optimal hyperparameters and train it on the data for 50 epochs\n",
    "model = tuner.hypermodel.build(best_hps)\n",
    "history = model.fit(X_train, y_train, epochs=50, validation_split=0.2)\n",
    "\n",
    "val_acc_per_epoch = history.history['val_accuracy']\n",
    "best_epoch = val_acc_per_epoch.index(max(val_acc_per_epoch)) + 1\n",
    "print('Best epoch: %d' % (best_epoch,))"
   ]
  },
  {
   "cell_type": "code",
   "execution_count": 29,
   "metadata": {},
   "outputs": [],
   "source": [
    "## ADD softmax in last layer to normalization probability of prediction class\n",
    "probability_model = tf.keras.Sequential([model, tf.keras.layers.Softmax()])\n",
    "predictions = probability_model.predict(X_test)"
   ]
  },
  {
   "cell_type": "code",
   "execution_count": 30,
   "metadata": {},
   "outputs": [],
   "source": [
    "def evaluation_model(predictions, X_test, number_of_correct_excipient=4):\n",
    "    \"\"\"\n",
    "    Calculate model accuracy.\n",
    "    Get top 10 elments with highest probability and compare with list of excipients in test set.\n",
    "    If there are 4 cases of predictions in list of excipient then count it is correct prediction else not.\n",
    "    \"\"\"\n",
    "    number_of_correct_cases = 0\n",
    "    \n",
    "    for y_pred, x_test in zip(predictions, X_test):\n",
    "        top_10_prediction = set(excipients_encoder.inverse_transform(y_pred.argsort()[-10:][::-1]))\n",
    "        true_values = set(tranform_data_df[tranform_data_df.SMILES == character_table.decode(x_test).strip()]['excipients'].unique())\n",
    "        \n",
    "        if len(top_10_prediction & true_values) >= number_of_correct_excipient:\n",
    "            number_of_correct_cases += 1\n",
    "        \n",
    "    return number_of_correct_cases / len(X_test)\n",
    "\n",
    "#Running a prediction and using the custom evaluation model to evaluate the predicted outcome\n",
    "model_accuracy_vs_number_of_correct = []\n",
    "for i in range(3, 11):\n",
    "    model_accuracy_vs_number_of_correct.append({\n",
    "        \"number_of_correct_excipient\": i,\n",
    "        \"model_accuracy\": evaluation_model(predictions, X_test, i)\n",
    "    })"
   ]
  },
  {
   "cell_type": "code",
   "execution_count": 32,
   "metadata": {},
   "outputs": [],
   "source": [
    "model_accuracy_vs_number_of_correct_df = pd.DataFrame(model_accuracy_vs_number_of_correct)"
   ]
  },
  {
   "cell_type": "code",
   "execution_count": 33,
   "metadata": {},
   "outputs": [
    {
     "data": {
      "text/html": [
       "<div>\n",
       "<style scoped>\n",
       "    .dataframe tbody tr th:only-of-type {\n",
       "        vertical-align: middle;\n",
       "    }\n",
       "\n",
       "    .dataframe tbody tr th {\n",
       "        vertical-align: top;\n",
       "    }\n",
       "\n",
       "    .dataframe thead th {\n",
       "        text-align: right;\n",
       "    }\n",
       "</style>\n",
       "<table border=\"1\" class=\"dataframe\">\n",
       "  <thead>\n",
       "    <tr style=\"text-align: right;\">\n",
       "      <th></th>\n",
       "      <th>number_of_correct_excipient</th>\n",
       "      <th>model_accuracy</th>\n",
       "    </tr>\n",
       "  </thead>\n",
       "  <tbody>\n",
       "    <tr>\n",
       "      <th>0</th>\n",
       "      <td>3</td>\n",
       "      <td>0.893050</td>\n",
       "    </tr>\n",
       "    <tr>\n",
       "      <th>1</th>\n",
       "      <td>4</td>\n",
       "      <td>0.856294</td>\n",
       "    </tr>\n",
       "    <tr>\n",
       "      <th>2</th>\n",
       "      <td>5</td>\n",
       "      <td>0.800193</td>\n",
       "    </tr>\n",
       "    <tr>\n",
       "      <th>3</th>\n",
       "      <td>6</td>\n",
       "      <td>0.740638</td>\n",
       "    </tr>\n",
       "    <tr>\n",
       "      <th>4</th>\n",
       "      <td>7</td>\n",
       "      <td>0.672378</td>\n",
       "    </tr>\n",
       "    <tr>\n",
       "      <th>5</th>\n",
       "      <td>8</td>\n",
       "      <td>0.589194</td>\n",
       "    </tr>\n",
       "    <tr>\n",
       "      <th>6</th>\n",
       "      <td>9</td>\n",
       "      <td>0.495371</td>\n",
       "    </tr>\n",
       "    <tr>\n",
       "      <th>7</th>\n",
       "      <td>10</td>\n",
       "      <td>0.456681</td>\n",
       "    </tr>\n",
       "  </tbody>\n",
       "</table>\n",
       "</div>"
      ],
      "text/plain": [
       "   number_of_correct_excipient  model_accuracy\n",
       "0                            3        0.893050\n",
       "1                            4        0.856294\n",
       "2                            5        0.800193\n",
       "3                            6        0.740638\n",
       "4                            7        0.672378\n",
       "5                            8        0.589194\n",
       "6                            9        0.495371\n",
       "7                           10        0.456681"
      ]
     },
     "execution_count": 33,
     "metadata": {},
     "output_type": "execute_result"
    }
   ],
   "source": [
    "model_accuracy_vs_number_of_correct_df"
   ]
  },
  {
   "cell_type": "code",
   "execution_count": 37,
   "metadata": {},
   "outputs": [
    {
     "data": {
      "text/plain": [
       "<AxesSubplot:xlabel='number_of_correct_excipient'>"
      ]
     },
     "execution_count": 37,
     "metadata": {},
     "output_type": "execute_result"
    },
    {
     "data": {
      "image/png": "[encoded data removed]",
      "text/plain": [
       "<Figure size 432x288 with 1 Axes>"
      ]
     },
     "metadata": {
      "needs_background": "light"
     },
     "output_type": "display_data"
    }
   ],
   "source": [
    "model_accuracy_vs_number_of_correct_df.plot.bar(x=\"number_of_correct_excipient\", y='model_accuracy', rot=0)"
   ]
  },
  {
   "cell_type": "code",
   "execution_count": 38,
   "metadata": {},
   "outputs": [
    {
     "name": "stdout",
     "output_type": "stream",
     "text": [
      "INFO:tensorflow:Assets written to: saved_model/excipient_model_v3/assets\n"
     ]
    }
   ],
   "source": [
    "# Save the entire model as a SavedModel.\n",
    "!mkdir -p saved_model\n",
    "model.save('saved_model/excipient_model_v3')"
   ]
  },
  {
   "cell_type": "code",
   "execution_count": 39,
   "metadata": {},
   "outputs": [],
   "source": [
    "load_model = tf.keras.models.load_model('saved_model/excipient_model_v3')"
   ]
  },
  {
   "cell_type": "code",
   "execution_count": 40,
   "metadata": {},
   "outputs": [
    {
     "name": "stdout",
     "output_type": "stream",
     "text": [
      "Model: \"sequential\"\n",
      "_________________________________________________________________\n",
      "Layer (type)                 Output Shape              Param #   \n",
      "=================================================================\n",
      "flatten (Flatten)            (None, 8400)              0         \n",
      "_________________________________________________________________\n",
      "dense (Dense)                (None, 160)               1344160   \n",
      "_________________________________________________________________\n",
      "dense_1 (Dense)              (None, 2298)              369978    \n",
      "=================================================================\n",
      "Total params: 1,714,138\n",
      "Trainable params: 1,714,138\n",
      "Non-trainable params: 0\n",
      "_________________________________________________________________\n"
     ]
    }
   ],
   "source": [
    "load_model.summary()"
   ]
  }
 ],
 "metadata": {
  "kernelspec": {
   "display_name": "Python 3",
   "language": "python",
   "name": "python3"
  },
  "language_info": {
   "codemirror_mode": {
    "name": "ipython",
    "version": 3
   },
   "file_extension": ".py",
   "mimetype": "text/x-python",
   "name": "python",
   "nbconvert_exporter": "python",
   "pygments_lexer": "ipython3",
   "version": "3.8.5"
  }
 },
 "nbformat": 4,
 "nbformat_minor": 4
}
